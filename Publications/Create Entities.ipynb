{
 "cells": [
  {
   "cell_type": "code",
   "execution_count": 2,
   "id": "c4172357-b520-46ac-9cc0-98a2bca5df00",
   "metadata": {},
   "outputs": [],
   "source": [
    "import pandas as pd\n",
    "from pymongo import MongoClient"
   ]
  },
  {
   "cell_type": "code",
   "execution_count": 5,
   "id": "578b0e72-5757-4dae-887b-142c639e0762",
   "metadata": {},
   "outputs": [
    {
     "data": {
      "text/html": [
       "<div>\n",
       "<style scoped>\n",
       "    .dataframe tbody tr th:only-of-type {\n",
       "        vertical-align: middle;\n",
       "    }\n",
       "\n",
       "    .dataframe tbody tr th {\n",
       "        vertical-align: top;\n",
       "    }\n",
       "\n",
       "    .dataframe thead th {\n",
       "        text-align: right;\n",
       "    }\n",
       "</style>\n",
       "<table border=\"1\" class=\"dataframe\">\n",
       "  <thead>\n",
       "    <tr style=\"text-align: right;\">\n",
       "      <th></th>\n",
       "      <th>Document Name</th>\n",
       "      <th>Author</th>\n",
       "      <th>Year</th>\n",
       "      <th>Primary Stakeholder</th>\n",
       "      <th>Secondary Stakeholder</th>\n",
       "      <th>Context</th>\n",
       "      <th>Tag</th>\n",
       "    </tr>\n",
       "  </thead>\n",
       "  <tbody>\n",
       "    <tr>\n",
       "      <th>0</th>\n",
       "      <td>Climate Change and Sustainability in the Agric...</td>\n",
       "      <td>Joint Committee on Agriculture, Food and the M...</td>\n",
       "      <td>2018</td>\n",
       "      <td>Irish dairy sector</td>\n",
       "      <td>Irish dairy herd</td>\n",
       "      <td>The Irish dairy sector is highlighted as cruci...</td>\n",
       "      <td>Reports</td>\n",
       "    </tr>\n",
       "  </tbody>\n",
       "</table>\n",
       "</div>"
      ],
      "text/plain": [
       "                                       Document Name  \\\n",
       "0  Climate Change and Sustainability in the Agric...   \n",
       "\n",
       "                                              Author  Year  \\\n",
       "0  Joint Committee on Agriculture, Food and the M...  2018   \n",
       "\n",
       "  Primary Stakeholder Secondary Stakeholder  \\\n",
       "0  Irish dairy sector      Irish dairy herd   \n",
       "\n",
       "                                             Context      Tag  \n",
       "0  The Irish dairy sector is highlighted as cruci...  Reports  "
      ]
     },
     "execution_count": 5,
     "metadata": {},
     "output_type": "execute_result"
    }
   ],
   "source": [
    "publications = pd.read_excel(r\"primary_secondary.xlsx\")\n",
    "publications.drop(columns = [\"Page Number\", \"Paragraph Number\", \"Paragraph\"], inplace = True)\n",
    "publications.head(1)"
   ]
  },
  {
   "cell_type": "code",
   "execution_count": 6,
   "id": "a4431021-b68a-4fc6-b06e-6cf5020d7504",
   "metadata": {},
   "outputs": [],
   "source": [
    "def insert_dataframe_into_mongodb(mongo_uri, db_name, collection_name, df):\n",
    "    client = MongoClient(mongo_uri)\n",
    "    db = client[db_name]\n",
    "    collection = db[collection_name]\n",
    "\n",
    "    data = df.to_dict(orient=\"records\")\n",
    "\n",
    "    if data:\n",
    "        result = collection.insert_many(data)\n",
    "        print(f\"{len(result.inserted_ids)} documents inserted successfully.\")\n",
    "        return len(result.inserted_ids)\n",
    "    else:\n",
    "        print(\"No data to insert.\")\n",
    "        return 0"
   ]
  },
  {
   "cell_type": "code",
   "execution_count": 7,
   "id": "6a5e1a8b-6dd2-41df-ae5e-d57e77ac98ad",
   "metadata": {},
   "outputs": [
    {
     "name": "stdout",
     "output_type": "stream",
     "text": [
      "1010 documents inserted successfully.\n"
     ]
    },
    {
     "data": {
      "text/plain": [
       "1010"
      ]
     },
     "execution_count": 7,
     "metadata": {},
     "output_type": "execute_result"
    }
   ],
   "source": [
    "insert_dataframe_into_mongodb('mongodb://localhost:27017/', 'extraction', 'publications', publications)"
   ]
  },
  {
   "cell_type": "code",
   "execution_count": null,
   "id": "1d676f72-308b-44e2-a569-5135d8e104b7",
   "metadata": {},
   "outputs": [],
   "source": []
  }
 ],
 "metadata": {
  "kernelspec": {
   "display_name": "Python 3 (ipykernel)",
   "language": "python",
   "name": "python3"
  },
  "language_info": {
   "codemirror_mode": {
    "name": "ipython",
    "version": 3
   },
   "file_extension": ".py",
   "mimetype": "text/x-python",
   "name": "python",
   "nbconvert_exporter": "python",
   "pygments_lexer": "ipython3",
   "version": "3.12.6"
  }
 },
 "nbformat": 4,
 "nbformat_minor": 5
}
