{
 "cells": [
  {
   "cell_type": "code",
   "execution_count": 57,
   "id": "8a154107-6b72-4365-b288-e23d0d102151",
   "metadata": {},
   "outputs": [],
   "source": [
    "import pandas as pd\n",
    "from pymongo import MongoClient"
   ]
  },
  {
   "cell_type": "code",
   "execution_count": 58,
   "id": "8a8a19b1-f607-4f5b-a59b-82cd50eb2cd8",
   "metadata": {},
   "outputs": [
    {
     "data": {
      "text/html": [
       "<div>\n",
       "<style scoped>\n",
       "    .dataframe tbody tr th:only-of-type {\n",
       "        vertical-align: middle;\n",
       "    }\n",
       "\n",
       "    .dataframe tbody tr th {\n",
       "        vertical-align: top;\n",
       "    }\n",
       "\n",
       "    .dataframe thead th {\n",
       "        text-align: right;\n",
       "    }\n",
       "</style>\n",
       "<table border=\"1\" class=\"dataframe\">\n",
       "  <thead>\n",
       "    <tr style=\"text-align: right;\">\n",
       "      <th></th>\n",
       "      <th>Strategic interventions</th>\n",
       "      <th>Action</th>\n",
       "      <th>Lead Responsible</th>\n",
       "      <th>Partners</th>\n",
       "      <th>Timeframe</th>\n",
       "      <th>Start Time Frame</th>\n",
       "      <th>End Time Frame</th>\n",
       "      <th>Topics</th>\n",
       "      <th>File Name</th>\n",
       "      <th>Target</th>\n",
       "      <th>Performance indicators</th>\n",
       "    </tr>\n",
       "  </thead>\n",
       "  <tbody>\n",
       "    <tr>\n",
       "      <th>0</th>\n",
       "      <td>NaN</td>\n",
       "      <td>Provide potable water in all learning centres ...</td>\n",
       "      <td>DES, pre-schools, schools, colleges, universit...</td>\n",
       "      <td>NaN</td>\n",
       "      <td>2016–2025</td>\n",
       "      <td>2016</td>\n",
       "      <td>2025</td>\n",
       "      <td>['water', 'potable water', 'community']</td>\n",
       "      <td>A Healthy Weight for Ireland - Obesity Policy ...</td>\n",
       "      <td>NaN</td>\n",
       "      <td>NaN</td>\n",
       "    </tr>\n",
       "  </tbody>\n",
       "</table>\n",
       "</div>"
      ],
      "text/plain": [
       "  Strategic interventions                                             Action  \\\n",
       "0                     NaN  Provide potable water in all learning centres ...   \n",
       "\n",
       "                                    Lead Responsible  Partners  Timeframe  \\\n",
       "0  DES, pre-schools, schools, colleges, universit...       NaN  2016–2025   \n",
       "\n",
       "  Start Time Frame End Time Frame                                   Topics  \\\n",
       "0             2016           2025  ['water', 'potable water', 'community']   \n",
       "\n",
       "                                           File Name Target  \\\n",
       "0  A Healthy Weight for Ireland - Obesity Policy ...    NaN   \n",
       "\n",
       "  Performance indicators  \n",
       "0                    NaN  "
      ]
     },
     "execution_count": 58,
     "metadata": {},
     "output_type": "execute_result"
    }
   ],
   "source": [
    "actions = pd.read_excel(r\"Combined.xlsx\")\n",
    "actions.head(1)"
   ]
  },
  {
   "cell_type": "code",
   "execution_count": 59,
   "id": "165dc970-dbf3-4966-991b-2e35e0863e94",
   "metadata": {},
   "outputs": [
    {
     "data": {
      "text/html": [
       "<div>\n",
       "<style scoped>\n",
       "    .dataframe tbody tr th:only-of-type {\n",
       "        vertical-align: middle;\n",
       "    }\n",
       "\n",
       "    .dataframe tbody tr th {\n",
       "        vertical-align: top;\n",
       "    }\n",
       "\n",
       "    .dataframe thead th {\n",
       "        text-align: right;\n",
       "    }\n",
       "</style>\n",
       "<table border=\"1\" class=\"dataframe\">\n",
       "  <thead>\n",
       "    <tr style=\"text-align: right;\">\n",
       "      <th></th>\n",
       "      <th>Action</th>\n",
       "      <th>Lead Responsible</th>\n",
       "      <th>Start Time Frame</th>\n",
       "      <th>End Time Frame</th>\n",
       "      <th>Topics</th>\n",
       "      <th>File Name</th>\n",
       "    </tr>\n",
       "  </thead>\n",
       "  <tbody>\n",
       "    <tr>\n",
       "      <th>0</th>\n",
       "      <td>Provide potable water in all learning centres ...</td>\n",
       "      <td>DES, pre-schools, schools, colleges, universit...</td>\n",
       "      <td>2016</td>\n",
       "      <td>2025</td>\n",
       "      <td>['water', 'potable water', 'community']</td>\n",
       "      <td>A Healthy Weight for Ireland - Obesity Policy ...</td>\n",
       "    </tr>\n",
       "  </tbody>\n",
       "</table>\n",
       "</div>"
      ],
      "text/plain": [
       "                                              Action  \\\n",
       "0  Provide potable water in all learning centres ...   \n",
       "\n",
       "                                    Lead Responsible Start Time Frame  \\\n",
       "0  DES, pre-schools, schools, colleges, universit...             2016   \n",
       "\n",
       "  End Time Frame                                   Topics  \\\n",
       "0           2025  ['water', 'potable water', 'community']   \n",
       "\n",
       "                                           File Name  \n",
       "0  A Healthy Weight for Ireland - Obesity Policy ...  "
      ]
     },
     "execution_count": 59,
     "metadata": {},
     "output_type": "execute_result"
    }
   ],
   "source": [
    "actions.drop(columns = [\"Strategic interventions\", \"Partners\", \"Timeframe\", \"Target\", \"Performance indicators\"], inplace = True)\n",
    "actions = actions.dropna(subset = [\"Lead Responsible\"])\n",
    "actions.head(1)"
   ]
  },
  {
   "cell_type": "code",
   "execution_count": 60,
   "id": "230252fb-2cae-4dd7-b8b8-b4c729635372",
   "metadata": {},
   "outputs": [
    {
     "data": {
      "text/html": [
       "<div>\n",
       "<style scoped>\n",
       "    .dataframe tbody tr th:only-of-type {\n",
       "        vertical-align: middle;\n",
       "    }\n",
       "\n",
       "    .dataframe tbody tr th {\n",
       "        vertical-align: top;\n",
       "    }\n",
       "\n",
       "    .dataframe thead th {\n",
       "        text-align: right;\n",
       "    }\n",
       "</style>\n",
       "<table border=\"1\" class=\"dataframe\">\n",
       "  <thead>\n",
       "    <tr style=\"text-align: right;\">\n",
       "      <th></th>\n",
       "      <th>Action</th>\n",
       "      <th>Lead Responsible</th>\n",
       "      <th>Start Time Frame</th>\n",
       "      <th>End Time Frame</th>\n",
       "      <th>Topics</th>\n",
       "      <th>File Name</th>\n",
       "    </tr>\n",
       "  </thead>\n",
       "  <tbody>\n",
       "    <tr>\n",
       "      <th>0</th>\n",
       "      <td>Provide potable water in all learning centres ...</td>\n",
       "      <td>[DES, pre-schools, schools, colleges, universi...</td>\n",
       "      <td>2016</td>\n",
       "      <td>2025</td>\n",
       "      <td>['water', 'potable water', 'community']</td>\n",
       "      <td>A Healthy Weight for Ireland - Obesity Policy ...</td>\n",
       "    </tr>\n",
       "  </tbody>\n",
       "</table>\n",
       "</div>"
      ],
      "text/plain": [
       "                                              Action  \\\n",
       "0  Provide potable water in all learning centres ...   \n",
       "\n",
       "                                    Lead Responsible Start Time Frame  \\\n",
       "0  [DES, pre-schools, schools, colleges, universi...             2016   \n",
       "\n",
       "  End Time Frame                                   Topics  \\\n",
       "0           2025  ['water', 'potable water', 'community']   \n",
       "\n",
       "                                           File Name  \n",
       "0  A Healthy Weight for Ireland - Obesity Policy ...  "
      ]
     },
     "execution_count": 60,
     "metadata": {},
     "output_type": "execute_result"
    }
   ],
   "source": [
    "def create_list(s):\n",
    "    return [item.strip() for item in s.split(\",\")]\n",
    "\n",
    "actions[\"Lead Responsible\"] = actions[\"Lead Responsible\"].apply(create_list)\n",
    "actions.head(1)"
   ]
  },
  {
   "cell_type": "code",
   "execution_count": 61,
   "id": "e47cadfa-20ca-47c1-bb43-c550d9f87de9",
   "metadata": {},
   "outputs": [
    {
     "data": {
      "text/html": [
       "<div>\n",
       "<style scoped>\n",
       "    .dataframe tbody tr th:only-of-type {\n",
       "        vertical-align: middle;\n",
       "    }\n",
       "\n",
       "    .dataframe tbody tr th {\n",
       "        vertical-align: top;\n",
       "    }\n",
       "\n",
       "    .dataframe thead th {\n",
       "        text-align: right;\n",
       "    }\n",
       "</style>\n",
       "<table border=\"1\" class=\"dataframe\">\n",
       "  <thead>\n",
       "    <tr style=\"text-align: right;\">\n",
       "      <th></th>\n",
       "      <th>Action</th>\n",
       "      <th>Lead Responsible</th>\n",
       "      <th>Start Time Frame</th>\n",
       "      <th>End Time Frame</th>\n",
       "      <th>Topics</th>\n",
       "      <th>File Name</th>\n",
       "    </tr>\n",
       "  </thead>\n",
       "  <tbody>\n",
       "    <tr>\n",
       "      <th>0</th>\n",
       "      <td>Provide potable water in all learning centres ...</td>\n",
       "      <td>DES</td>\n",
       "      <td>2016</td>\n",
       "      <td>2025</td>\n",
       "      <td>['water', 'potable water', 'community']</td>\n",
       "      <td>A Healthy Weight for Ireland - Obesity Policy ...</td>\n",
       "    </tr>\n",
       "    <tr>\n",
       "      <th>1</th>\n",
       "      <td>Provide potable water in all learning centres ...</td>\n",
       "      <td>pre-schools</td>\n",
       "      <td>2016</td>\n",
       "      <td>2025</td>\n",
       "      <td>['water', 'potable water', 'community']</td>\n",
       "      <td>A Healthy Weight for Ireland - Obesity Policy ...</td>\n",
       "    </tr>\n",
       "    <tr>\n",
       "      <th>2</th>\n",
       "      <td>Provide potable water in all learning centres ...</td>\n",
       "      <td>schools</td>\n",
       "      <td>2016</td>\n",
       "      <td>2025</td>\n",
       "      <td>['water', 'potable water', 'community']</td>\n",
       "      <td>A Healthy Weight for Ireland - Obesity Policy ...</td>\n",
       "    </tr>\n",
       "    <tr>\n",
       "      <th>3</th>\n",
       "      <td>Provide potable water in all learning centres ...</td>\n",
       "      <td>colleges</td>\n",
       "      <td>2016</td>\n",
       "      <td>2025</td>\n",
       "      <td>['water', 'potable water', 'community']</td>\n",
       "      <td>A Healthy Weight for Ireland - Obesity Policy ...</td>\n",
       "    </tr>\n",
       "    <tr>\n",
       "      <th>4</th>\n",
       "      <td>Provide potable water in all learning centres ...</td>\n",
       "      <td>universities.</td>\n",
       "      <td>2016</td>\n",
       "      <td>2025</td>\n",
       "      <td>['water', 'potable water', 'community']</td>\n",
       "      <td>A Healthy Weight for Ireland - Obesity Policy ...</td>\n",
       "    </tr>\n",
       "  </tbody>\n",
       "</table>\n",
       "</div>"
      ],
      "text/plain": [
       "                                              Action Lead Responsible  \\\n",
       "0  Provide potable water in all learning centres ...              DES   \n",
       "1  Provide potable water in all learning centres ...      pre-schools   \n",
       "2  Provide potable water in all learning centres ...          schools   \n",
       "3  Provide potable water in all learning centres ...         colleges   \n",
       "4  Provide potable water in all learning centres ...    universities.   \n",
       "\n",
       "  Start Time Frame End Time Frame                                   Topics  \\\n",
       "0             2016           2025  ['water', 'potable water', 'community']   \n",
       "1             2016           2025  ['water', 'potable water', 'community']   \n",
       "2             2016           2025  ['water', 'potable water', 'community']   \n",
       "3             2016           2025  ['water', 'potable water', 'community']   \n",
       "4             2016           2025  ['water', 'potable water', 'community']   \n",
       "\n",
       "                                           File Name  \n",
       "0  A Healthy Weight for Ireland - Obesity Policy ...  \n",
       "1  A Healthy Weight for Ireland - Obesity Policy ...  \n",
       "2  A Healthy Weight for Ireland - Obesity Policy ...  \n",
       "3  A Healthy Weight for Ireland - Obesity Policy ...  \n",
       "4  A Healthy Weight for Ireland - Obesity Policy ...  "
      ]
     },
     "execution_count": 61,
     "metadata": {},
     "output_type": "execute_result"
    }
   ],
   "source": [
    "actions = actions.explode(\"Lead Responsible\").reset_index(drop = True)\n",
    "actions.head(5)"
   ]
  },
  {
   "cell_type": "code",
   "execution_count": 62,
   "id": "58bde8f5-7889-492b-8a60-803ecaccf486",
   "metadata": {},
   "outputs": [
    {
     "name": "stdout",
     "output_type": "stream",
     "text": [
      "[\"['water', 'potable water', 'community']\"\n",
      " \"['rural development', 'community', 'economic viability']\"\n",
      " \"['rural development', 'community']\"\n",
      " \"['community', 'rural development', 'social sustainability', 'society']\"\n",
      " \"['rural development', 'community', 'social sustainability', 'society']\"\n",
      " \"['water', 'waterways', 'community']\"\n",
      " \"['carbon', 'rural development', 'community', 'social sustainability']\"\n",
      " \"['rural development', 'community', 'society']\"\n",
      " \"['rural development', 'community', 'social sustainability', 'economic viability']\"\n",
      " \"['community', 'social sustainability', 'economic viability']\"\n",
      " \"['community', 'social sustainability', 'society']\"\n",
      " \"['social sustainability', 'community']\"\n",
      " \"['economic viability', 'rural development', 'social sustainability']\"\n",
      " \"['community']\"\n",
      " \"['community', 'social sustainability', 'rural development']\"\n",
      " \"['rural development', 'economic viability', 'community', 'society']\"\n",
      " \"['economic viability', 'community', 'rural development']\"\n",
      " \"['community', 'economic viability']\"\n",
      " \"['rural development', 'community', 'society', 'economic viability']\"\n",
      " \"['carbon', 'neutrality', 'emissions', 'abatement', 'economic viability']\"\n",
      " \"['rural development', 'economic viability']\"\n",
      " \"['economic viability', 'rural development', 'community']\"\n",
      " \"['community', 'rural development', 'society']\"\n",
      " \"['rural development', 'economic viability', 'social sustainability']\"\n",
      " \"['water', 'waterways', 'rivers', 'community']\"\n",
      " \"['water', 'waterways', 'rural development', 'economic viability']\"\n",
      " \"['water', 'community']\" \"['community', 'rural development']\"\n",
      " \"['water', 'waterways']\" \"['carbon', 'neutrality']\"\n",
      " \"['community', 'social sustainability']\"\n",
      " \"['nitrates', 'rural development', 'community']\"\n",
      " \"['carbon', 'emissions', 'water']\"\n",
      " \"['carbon', 'neutrality', 'environmentally sustainable', 'rural development', 'community']\"\n",
      " \"['carbon', 'neutrality', 'water', 'community', 'rural development']\"\n",
      " \"['water', 'waterways', 'community', 'social sustainability']\"\n",
      " \"['nitrogen efficient', 'nitrates', 'water', 'waterways', 'effluent', 'discharge']\"\n",
      " \"['carbon']\" \"['rivers']\" \"['water', 'biodiversity', 'climate']\"\n",
      " \"['community', 'social sustainability', 'society', 'economic viability']\"\n",
      " \"['discharge', 'effluent']\"\n",
      " \"['carbon', 'biodiversity', 'economic viability']\"\n",
      " \"['water', 'biodiversity', 'environment']\"\n",
      " \"['society', 'economic viability']\" \"['carbon', 'water', 'emissions']\"\n",
      " \"['rural development', 'community', 'social sustainability']\"\n",
      " \"['water', 'waterways', 'effluent', 'discharge']\"\n",
      " \"['economic viability', 'community']\"\n",
      " \"['rural development', 'community', 'social sustainability', 'society', 'economic viability']\"\n",
      " \"['water', 'waterways', 'rivers', 'community', 'economic viability']\"]\n"
     ]
    }
   ],
   "source": [
    "unique_topics = actions['Topics'].unique()\n",
    "print(unique_topics)"
   ]
  },
  {
   "cell_type": "code",
   "execution_count": 63,
   "id": "72f9ebdf-4d79-47e6-ba53-c70a2fa2ce24",
   "metadata": {},
   "outputs": [],
   "source": [
    "def insert_dataframe_into_mongodb(mongo_uri, db_name, collection_name, df):\n",
    "    client = MongoClient(mongo_uri)\n",
    "    db = client[db_name]\n",
    "    collection = db[collection_name]\n",
    "\n",
    "    data = df.to_dict(orient=\"records\")\n",
    "\n",
    "    if data:\n",
    "        result = collection.insert_many(data)\n",
    "        print(f\"{len(result.inserted_ids)} documents inserted successfully.\")\n",
    "        return len(result.inserted_ids)\n",
    "    else:\n",
    "        print(\"No data to insert.\")\n",
    "        return 0"
   ]
  },
  {
   "cell_type": "code",
   "execution_count": 64,
   "id": "bdbe833e-977f-4147-950b-1e77cf08b269",
   "metadata": {},
   "outputs": [
    {
     "name": "stdout",
     "output_type": "stream",
     "text": [
      "255 documents inserted successfully.\n"
     ]
    },
    {
     "data": {
      "text/plain": [
       "255"
      ]
     },
     "execution_count": 64,
     "metadata": {},
     "output_type": "execute_result"
    }
   ],
   "source": [
    "insert_dataframe_into_mongodb('mongodb://localhost:27017/', 'extraction', 'action_plans', actions)"
   ]
  },
  {
   "cell_type": "code",
   "execution_count": null,
   "id": "46fe2656-ba6d-4e9b-b59c-0f272adbe02b",
   "metadata": {},
   "outputs": [],
   "source": []
  }
 ],
 "metadata": {
  "kernelspec": {
   "display_name": "Python 3 (ipykernel)",
   "language": "python",
   "name": "python3"
  },
  "language_info": {
   "codemirror_mode": {
    "name": "ipython",
    "version": 3
   },
   "file_extension": ".py",
   "mimetype": "text/x-python",
   "name": "python",
   "nbconvert_exporter": "python",
   "pygments_lexer": "ipython3",
   "version": "3.12.6"
  }
 },
 "nbformat": 4,
 "nbformat_minor": 5
}
