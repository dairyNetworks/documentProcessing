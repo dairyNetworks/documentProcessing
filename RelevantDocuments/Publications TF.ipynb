{
 "cells": [
  {
   "cell_type": "code",
   "execution_count": 1,
   "id": "6cf82efe-c569-42c0-8f9f-53e6d54e4c90",
   "metadata": {},
   "outputs": [],
   "source": [
    "import pandas as pd\n",
    "from pymongo import MongoClient\n",
    "import re\n",
    "from collections import defaultdict"
   ]
  },
  {
   "cell_type": "code",
   "execution_count": 2,
   "id": "1af15a2f-bb99-4a46-a4a0-14fae8247211",
   "metadata": {},
   "outputs": [],
   "source": [
    "def query_tdm_or_condition(db_name, collection_name, keywords, num_results=5, mongo_uri=\"mongodb://localhost:27017/\"):\n",
    "    client = MongoClient(mongo_uri)\n",
    "    db = client[db_name]\n",
    "    collection = db[collection_name]\n",
    "\n",
    "    regex_patterns = []\n",
    "    for keyword in keywords:\n",
    "        if '*' in keyword:\n",
    "            pattern = re.compile(f\".*{keyword.replace('*', '.*')}.*\", re.IGNORECASE)\n",
    "        else:\n",
    "            pattern = re.compile(f\"^{keyword}$\", re.IGNORECASE)\n",
    "        regex_patterns.append(pattern)\n",
    "\n",
    "    pipeline = [\n",
    "        {\"$group\": {\n",
    "            \"_id\": \"$Document Name\", \n",
    "            \"tf_matrix\": {\"$push\": \"$tf_matrix\"}, \n",
    "        }},\n",
    "        {\"$project\": {\n",
    "            \"Document Name\": \"$_id\",\n",
    "            \"tf_matrix\": {\"$reduce\": {\n",
    "                \"input\": \"$tf_matrix\",\n",
    "                \"initialValue\": [],\n",
    "                \"in\": {\"$concatArrays\": [\"$$value\", \"$$this\"]}, \n",
    "            }}\n",
    "        }},\n",
    "    ]\n",
    "    \n",
    "    aggregated_docs = list(collection.aggregate(pipeline))\n",
    "    results = []\n",
    "\n",
    "    for doc in aggregated_docs:\n",
    "        tf_matrix = doc.get(\"tf_matrix\", [])\n",
    "        total_freq = 0\n",
    "        term_frequencies = defaultdict(int)\n",
    "        matched_terms = set()\n",
    "\n",
    "        for term_freqs in tf_matrix:\n",
    "            if isinstance(term_freqs, list) and len(term_freqs) == 2:\n",
    "                term, freq = term_freqs\n",
    "                term_frequencies[term] += freq\n",
    "            else:\n",
    "                print(f\"Unexpected structure in tf_matrix: {term_freqs}\")\n",
    "                continue\n",
    "\n",
    "        for keyword in keywords:\n",
    "            if keyword in term_frequencies:\n",
    "                total_freq += term_frequencies[keyword]\n",
    "\n",
    "        matched_keywords = set()\n",
    "        for keyword in keywords:\n",
    "            keyword_matched = False\n",
    "            for term in term_frequencies:\n",
    "                for pattern in regex_patterns:\n",
    "                    if pattern.search(term):\n",
    "                        matched_keywords.add(keyword)\n",
    "                        keyword_matched = True\n",
    "                        break\n",
    "            if not keyword_matched:\n",
    "                break\n",
    "\n",
    "        if len(matched_keywords) == len(keywords):\n",
    "            results.append({\n",
    "                \"Document Name\": doc.get(\"Document Name\", \"Unknown\"),\n",
    "                \"Total Frequency\": total_freq,\n",
    "                \"Term Frequencies\": {term: term_frequencies[term] for term in keywords if term in term_frequencies}\n",
    "            })\n",
    "    \n",
    "    results.sort(key=lambda x: x[\"Total Frequency\"], reverse=True)\n",
    "    return results[:num_results]"
   ]
  },
  {
   "cell_type": "code",
   "execution_count": 3,
   "id": "ae83df9c-e93c-42d2-8deb-b89061d28800",
   "metadata": {},
   "outputs": [
    {
     "name": "stdout",
     "output_type": "stream",
     "text": [
      "Document Name: Volatility and Risk in Irish Agriculture - REAG-0511-6268.pdf\n",
      "Total Frequency: 592\n"
     ]
    },
    {
     "ename": "NameError",
     "evalue": "name 'keywords' is not defined",
     "output_type": "error",
     "traceback": [
      "\u001b[1;31m---------------------------------------------------------------------------\u001b[0m",
      "\u001b[1;31mNameError\u001b[0m                                 Traceback (most recent call last)",
      "Cell \u001b[1;32mIn[3], line 6\u001b[0m\n\u001b[0;32m      4\u001b[0m \u001b[38;5;28mprint\u001b[39m(\u001b[38;5;124mf\u001b[39m\u001b[38;5;124m\"\u001b[39m\u001b[38;5;124mDocument Name: \u001b[39m\u001b[38;5;132;01m{\u001b[39;00mresult[\u001b[38;5;124m'\u001b[39m\u001b[38;5;124mDocument Name\u001b[39m\u001b[38;5;124m'\u001b[39m]\u001b[38;5;132;01m}\u001b[39;00m\u001b[38;5;124m\"\u001b[39m)\n\u001b[0;32m      5\u001b[0m \u001b[38;5;28mprint\u001b[39m(\u001b[38;5;124mf\u001b[39m\u001b[38;5;124m\"\u001b[39m\u001b[38;5;124mTotal Frequency: \u001b[39m\u001b[38;5;132;01m{\u001b[39;00mresult[\u001b[38;5;124m'\u001b[39m\u001b[38;5;124mTotal Frequency\u001b[39m\u001b[38;5;124m'\u001b[39m]\u001b[38;5;132;01m}\u001b[39;00m\u001b[38;5;124m\"\u001b[39m)\n\u001b[1;32m----> 6\u001b[0m relevant_terms \u001b[38;5;241m=\u001b[39m {term: freq \u001b[38;5;28;01mfor\u001b[39;00m term, freq \u001b[38;5;129;01min\u001b[39;00m result[\u001b[38;5;124m'\u001b[39m\u001b[38;5;124mTerm Frequencies\u001b[39m\u001b[38;5;124m'\u001b[39m]\u001b[38;5;241m.\u001b[39mitems() \u001b[38;5;28;01mif\u001b[39;00m term \u001b[38;5;129;01min\u001b[39;00m \u001b[43mkeywords\u001b[49m}\n\u001b[0;32m      7\u001b[0m \u001b[38;5;28;01mfor\u001b[39;00m term, freq \u001b[38;5;129;01min\u001b[39;00m relevant_terms\u001b[38;5;241m.\u001b[39mitems():\n\u001b[0;32m      8\u001b[0m     \u001b[38;5;28mprint\u001b[39m(\u001b[38;5;124mf\u001b[39m\u001b[38;5;124m\"\u001b[39m\u001b[38;5;124m  \u001b[39m\u001b[38;5;132;01m{\u001b[39;00mterm\u001b[38;5;132;01m}\u001b[39;00m\u001b[38;5;124m: \u001b[39m\u001b[38;5;132;01m{\u001b[39;00mfreq\u001b[38;5;132;01m}\u001b[39;00m\u001b[38;5;124m\"\u001b[39m)\n",
      "\u001b[1;31mNameError\u001b[0m: name 'keywords' is not defined"
     ]
    }
   ],
   "source": [
    "top_docs = query_tdm_or_condition(\"publications\", \"term_matrix_complete\", [\"dairy\", \"milk\", \"inheritance\"])\n",
    "\n",
    "for result in top_docs:\n",
    "    print(f\"Document Name: {result['Document Name']}\")\n",
    "    print(f\"Total Frequency: {result['Total Frequency']}\")\n",
    "    relevant_terms = {term: freq for term, freq in result['Term Frequencies'].items() if term in keywords}\n",
    "    for term, freq in relevant_terms.items():\n",
    "        print(f\"  {term}: {freq}\")\n",
    "    print(\"-\" * 40)"
   ]
  },
  {
   "cell_type": "code",
   "execution_count": null,
   "id": "6ce1b4e4-2e9a-4dbc-8f08-c4663455971d",
   "metadata": {},
   "outputs": [],
   "source": [
    "def query_tdm_and_condition(db_name, collection_name, keywords, num_results=5, mongo_uri=\"mongodb://localhost:27017/\"):\n",
    "    client = MongoClient(mongo_uri)\n",
    "    db = client[db_name]\n",
    "    collection = db[collection_name]\n",
    "\n",
    "    regex_patterns = []\n",
    "    for keyword in keywords:\n",
    "        if '*' in keyword:\n",
    "            pattern = re.compile(f\".*{keyword.replace('*', '.*')}.*\", re.IGNORECASE)\n",
    "        else:\n",
    "            pattern = re.compile(f\"^{keyword}$\", re.IGNORECASE)\n",
    "        regex_patterns.append(pattern)\n",
    "\n",
    "    pipeline = [\n",
    "        {\"$group\": {\n",
    "            \"_id\": \"$Document Name\", \n",
    "            \"tf_matrix\": {\"$push\": \"$tf_matrix\"}, \n",
    "        }},\n",
    "        {\"$project\": {\n",
    "            \"Document Name\": \"$_id\",\n",
    "            \"tf_matrix\": {\"$reduce\": {\n",
    "                \"input\": \"$tf_matrix\",\n",
    "                \"initialValue\": [],\n",
    "                \"in\": {\"$concatArrays\": [\"$$value\", \"$$this\"]}, \n",
    "            }}\n",
    "        }},\n",
    "    ]\n",
    "    \n",
    "    aggregated_docs = list(collection.aggregate(pipeline))\n",
    "    results = []\n",
    "\n",
    "    for doc in aggregated_docs:\n",
    "        tf_matrix = doc.get(\"tf_matrix\", [])\n",
    "        total_freq = 0\n",
    "        term_frequencies = defaultdict(int)\n",
    "\n",
    "        for term_freqs in tf_matrix:\n",
    "            if isinstance(term_freqs, list) and len(term_freqs) == 2:\n",
    "                term, freq = term_freqs\n",
    "                term_frequencies[term] += freq\n",
    "            else:\n",
    "                print(f\"Unexpected structure in tf_matrix: {term_freqs}\")\n",
    "                continue\n",
    "\n",
    "        all_keywords_found = all(keyword in term_frequencies for keyword in keywords)\n",
    "\n",
    "        if all_keywords_found:\n",
    "            for keyword in keywords:\n",
    "                total_freq += term_frequencies[keyword]\n",
    "\n",
    "            results.append({\n",
    "                \"Document Name\": doc.get(\"Document Name\", \"Unknown\"),\n",
    "                \"Total Frequency\": total_freq,\n",
    "                \"Term Frequencies\": {term: term_frequencies[term] for term in keywords if term in term_frequencies}\n",
    "            })\n",
    "    \n",
    "    results.sort(key=lambda x: x[\"Total Frequency\"], reverse=True)\n",
    "    return results[:num_results]"
   ]
  },
  {
   "cell_type": "code",
   "execution_count": null,
   "id": "214f0775-5a50-4408-a7e5-ddf330690af7",
   "metadata": {},
   "outputs": [],
   "source": [
    "keywords = [\"dairy\", \"milk\", \"inheritance\"]\n",
    "result_docs = query_tdm_and_condition(\"publications\", \"term_matrix_complete\", keywords)\n",
    "\n",
    "for result in result_docs:\n",
    "    print(f\"Document Name: {result['Document Name']}\")\n",
    "    print(f\"Total Frequency: {result['Total Frequency']}\")\n",
    "    relevant_terms = {term: freq for term, freq in result['Term Frequencies'].items() if term in keywords}\n",
    "    for term, freq in relevant_terms.items():\n",
    "        print(f\"  {term}: {freq}\")\n",
    "    print(\"-\" * 40)"
   ]
  },
  {
   "cell_type": "code",
   "execution_count": null,
   "id": "37e8611d-8987-4df0-bceb-68056c38448a",
   "metadata": {},
   "outputs": [],
   "source": [
    "def function_call_inc(keywords):\n",
    "    keyword_list = []\n",
    "    \n",
    "    if 'OR' in keywords:\n",
    "        print('OR')\n",
    "        keyword_list = [keyword.strip().lower() for keyword in keywords.split('OR')]\n",
    "        top_documents = query_tdm_or_condition('publications', 'term_matrix_complete', keyword_list, num_results=1000)\n",
    "    elif 'AND' in keywords:\n",
    "        print('AND')\n",
    "        keyword_list = [keyword.strip().lower() for keyword in keywords.split('AND')]\n",
    "        print(keyword_list)\n",
    "        top_documents = query_tdm_and_condition('publications', 'term_matrix_complete', keyword_list, num_results=1000)\n",
    "    else:\n",
    "        keyword_list.insert(0,str(keywords))\n",
    "        top_documents = query_tdm_or_condition('publications', 'term_matrix_complete', keyword_list, num_results=1000)\n",
    "    \n",
    "    return top_documents"
   ]
  },
  {
   "cell_type": "markdown",
   "id": "c196d378-f959-4846-80bd-fa845bfd089b",
   "metadata": {},
   "source": [
    "# Dairy and Carbon"
   ]
  },
  {
   "cell_type": "code",
   "execution_count": null,
   "id": "2eb46948-b306-4b5e-8d18-316c13154727",
   "metadata": {
    "scrolled": true
   },
   "outputs": [],
   "source": [
    "kw = 'dairy OR dairying OR dairyman OR dairymen OR dairymaid OR dairymaids OR dairyland OR milk OR cattle'\n",
    "dairy_doc = function_call_inc(kw)\n",
    "print(dairy_doc)"
   ]
  },
  {
   "cell_type": "code",
   "execution_count": null,
   "id": "2b447a14-e9f1-46a2-9487-bdbdeb2cc955",
   "metadata": {
    "scrolled": true
   },
   "outputs": [],
   "source": [
    "kw_carbon = 'carbon OR neutrality OR emissions OR abatement'\n",
    "carbon_doc = function_call_inc(kw_carbon)\n",
    "print(carbon_doc)"
   ]
  },
  {
   "cell_type": "code",
   "execution_count": null,
   "id": "449b10dd-9b0a-41ff-952c-c7555a467f03",
   "metadata": {},
   "outputs": [],
   "source": [
    "def find_matching_files(doc_list_other, doc_list_dairy):\n",
    "    file_names_set_dairy = {doc['Document Name'] for doc in doc_list_dairy}\n",
    "    matching_records = [other_doc for other_doc in doc_list_other if other_doc['Document Name'] in file_names_set_dairy]\n",
    "    return matching_records"
   ]
  },
  {
   "cell_type": "code",
   "execution_count": null,
   "id": "472f7a75-fc07-4ed9-b6db-6e698a9f8abf",
   "metadata": {},
   "outputs": [],
   "source": [
    "matching_records = find_matching_files(carbon_doc, dairy_doc)\n",
    "\n",
    "print(\"Matching Records:\", len(matching_records))\n",
    "print(len(carbon_doc))\n",
    "print(len(dairy_doc))"
   ]
  },
  {
   "cell_type": "code",
   "execution_count": null,
   "id": "7ff68c8d-d6ff-4b67-8d6c-4cabc82c9cf2",
   "metadata": {},
   "outputs": [],
   "source": [
    "dairy_carbon_doc_with_frequencies = pd.DataFrame(matching_records)\n",
    "dairy_carbon_doc_with_frequencies['Query Category'] = \"Dairy and Carbon\"\n",
    "dairy_carbon_doc_with_frequencies = dairy_carbon_doc_with_frequencies.loc[:, (dairy_carbon_doc_with_frequencies != 0).any()]\n",
    "print(dairy_carbon_doc_with_frequencies)"
   ]
  },
  {
   "cell_type": "code",
   "execution_count": null,
   "id": "ade040f7-0751-471c-9d83-c7cb1028af86",
   "metadata": {},
   "outputs": [],
   "source": [
    "dairy_carbon_doc_with_frequencies[\"Total Freq\"] = dairy_carbon_doc_with_frequencies.select_dtypes(include=['number']).sum(axis=1)\n",
    "dairy_carbon_doc_with_frequencies['Year'] = dairy_carbon_doc_with_frequencies['Document Name'].str.extract(r'(\\d{4})')\n",
    "print(dairy_carbon_doc_with_frequencies)"
   ]
  },
  {
   "cell_type": "markdown",
   "id": "1f1e1fcf-c2f8-464c-8657-47f1637cec2e",
   "metadata": {},
   "source": [
    "# Dairy and Water"
   ]
  },
  {
   "cell_type": "code",
   "execution_count": null,
   "id": "567a2be6-9947-49f4-b7b0-c31666422476",
   "metadata": {
    "scrolled": true
   },
   "outputs": [],
   "source": [
    "kw_water = 'water OR waterways OR rivers OR run-off OR nitrogen OR nitrification OR nitrous OR nitrates OR nitrifying OR algae OR algal OR alginate OR derogation OR eutrophication OR bloom OR effluent OR discharge'\n",
    "water_doc = function_call_inc(kw_water)\n",
    "print(water_doc)"
   ]
  },
  {
   "cell_type": "code",
   "execution_count": null,
   "id": "8d915ce4-9b36-414d-b2d3-bb734b2e3969",
   "metadata": {},
   "outputs": [],
   "source": [
    "matching_records_water = find_matching_files(water_doc, dairy_doc)\n",
    "\n",
    "print(\"Matching Records:\", len(matching_records_water))\n",
    "print(len(water_doc))\n",
    "print(len(dairy_doc))"
   ]
  },
  {
   "cell_type": "code",
   "execution_count": null,
   "id": "e47cff71-a173-4052-a790-41871984c625",
   "metadata": {},
   "outputs": [],
   "source": [
    "dairy_water_doc_with_frequencies = pd.DataFrame(matching_records_water)\n",
    "dairy_water_doc_with_frequencies['Query Category'] = \"Dairy and Water\"\n",
    "dairy_water_doc_with_frequencies = dairy_water_doc_with_frequencies.loc[:, (dairy_water_doc_with_frequencies != 0).any()]\n",
    "print(dairy_water_doc_with_frequencies)"
   ]
  },
  {
   "cell_type": "code",
   "execution_count": null,
   "id": "62677da2-479f-4ce8-86b9-eb6efbd6ba91",
   "metadata": {},
   "outputs": [],
   "source": [
    "dairy_water_doc_with_frequencies[\"Total Freq\"] = dairy_water_doc_with_frequencies.select_dtypes(include=['number']).sum(axis=1)\n",
    "dairy_water_doc_with_frequencies['Year'] = dairy_water_doc_with_frequencies['Document Name'].str.extract(r'(\\d{4})')\n",
    "print(dairy_water_doc_with_frequencies)"
   ]
  },
  {
   "cell_type": "markdown",
   "id": "980d55cd-2179-41e8-a2a9-17c606035be0",
   "metadata": {},
   "source": [
    "# Dairy and Livelihood"
   ]
  },
  {
   "cell_type": "code",
   "execution_count": null,
   "id": "4e2ad537-9fc1-48de-867f-cbdb43fc4ddb",
   "metadata": {
    "scrolled": true
   },
   "outputs": [],
   "source": [
    "kw_livelihood = 'inherit OR heritage OR inheritable OR inheritance OR inherited OR inheritor OR heritable OR succession OR rural development OR community OR social sustainability OR society OR economic viability'\n",
    "livelihood_doc = function_call_inc(kw_livelihood)\n",
    "print(livelihood_doc)"
   ]
  },
  {
   "cell_type": "code",
   "execution_count": null,
   "id": "d6763494-65e4-4d91-a4bf-a71d00f22176",
   "metadata": {},
   "outputs": [],
   "source": [
    "matching_records_livelihood = find_matching_files(livelihood_doc, dairy_doc)\n",
    "\n",
    "print(\"Matching Records:\", len(matching_records_livelihood))\n",
    "print(len(livelihood_doc))\n",
    "print(len(dairy_doc))"
   ]
  },
  {
   "cell_type": "code",
   "execution_count": null,
   "id": "c362b28d-d995-4778-b81b-406d6ce144df",
   "metadata": {},
   "outputs": [],
   "source": [
    "dairy_livelihood_doc_with_frequencies = pd.DataFrame(matching_records_livelihood)\n",
    "dairy_livelihood_doc_with_frequencies['Query Category'] = \"Dairy and Livelihood\"\n",
    "dairy_livelihood_doc_with_frequencies = dairy_livelihood_doc_with_frequencies.loc[:, (dairy_livelihood_doc_with_frequencies != 0).any()]\n",
    "print(dairy_livelihood_doc_with_frequencies)"
   ]
  },
  {
   "cell_type": "code",
   "execution_count": null,
   "id": "8cd4c96c-3c02-439e-b295-a72b62ecb015",
   "metadata": {},
   "outputs": [],
   "source": [
    "dairy_livelihood_doc_with_frequencies[\"Total Freq\"] = dairy_livelihood_doc_with_frequencies.select_dtypes(include=['number']).sum(axis=1)\n",
    "dairy_livelihood_doc_with_frequencies['Year'] = dairy_livelihood_doc_with_frequencies['Document Name'].str.extract(r'(\\d{4})')\n",
    "print(dairy_livelihood_doc_with_frequencies)"
   ]
  },
  {
   "cell_type": "code",
   "execution_count": null,
   "id": "f57efa50-d784-471e-8dd0-418ef6067162",
   "metadata": {},
   "outputs": [],
   "source": [
    "import matplotlib.pyplot as plt\n",
    "\n",
    "plt.figure(figsize=(10, 6))\n",
    "\n",
    "plt.plot(dairy_carbon_doc_with_frequencies['Total Freq'], label='Carbon')\n",
    "plt.plot(dairy_water_doc_with_frequencies['Total Freq'], label='Water')\n",
    "plt.plot(dairy_livelihood_doc_with_frequencies['Total Freq'], label='Livelihood')\n",
    "\n",
    "plt.xlabel(\"Index\")\n",
    "plt.ylabel(\"Total Frequency\")\n",
    "plt.title(\"Comparison of Total Frequencies\")\n",
    "\n",
    "plt.legend()\n",
    "\n",
    "plt.grid(True, linestyle=\"--\", alpha=0.5)\n",
    "\n",
    "plt.show()"
   ]
  },
  {
   "cell_type": "code",
   "execution_count": null,
   "id": "c28c7270-b080-4995-a159-461165577dfb",
   "metadata": {},
   "outputs": [],
   "source": [
    "output_file = \"publicationstf.xlsx\"\n",
    "\n",
    "with pd.ExcelWriter(output_file) as writer:\n",
    "    dairy_carbon_doc_with_frequencies.to_excel(writer, sheet_name=\"Carbon\", index=False)\n",
    "    dairy_water_doc_with_frequencies.to_excel(writer, sheet_name=\"Water\", index=False)\n",
    "    dairy_livelihood_doc_with_frequencies.to_excel(writer, sheet_name=\"Livelihood\", index=False)\n",
    "\n",
    "print(f\"DataFrames exported to {output_file}\")"
   ]
  },
  {
   "cell_type": "code",
   "execution_count": null,
   "id": "7e8f8e11-62dd-4245-996c-7d75dc4e2e1b",
   "metadata": {},
   "outputs": [],
   "source": []
  }
 ],
 "metadata": {
  "kernelspec": {
   "display_name": "Python 3 (ipykernel)",
   "language": "python",
   "name": "python3"
  },
  "language_info": {
   "codemirror_mode": {
    "name": "ipython",
    "version": 3
   },
   "file_extension": ".py",
   "mimetype": "text/x-python",
   "name": "python",
   "nbconvert_exporter": "python",
   "pygments_lexer": "ipython3",
   "version": "3.12.6"
  }
 },
 "nbformat": 4,
 "nbformat_minor": 5
}
