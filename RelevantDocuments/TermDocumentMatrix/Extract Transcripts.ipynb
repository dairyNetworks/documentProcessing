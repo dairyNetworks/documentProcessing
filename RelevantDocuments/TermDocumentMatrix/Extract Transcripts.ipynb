{
 "cells": [
  {
   "cell_type": "markdown",
   "id": "e281782b-02a5-4038-944c-3f2ff272af4b",
   "metadata": {},
   "source": [
    "# Term - Document Matrix for Transcripts"
   ]
  },
  {
   "cell_type": "code",
   "execution_count": 1,
   "id": "c874ca39-8997-42a0-a88f-246233221a0d",
   "metadata": {},
   "outputs": [],
   "source": [
    "import os\n",
    "import PyPDF2\n",
    "import pandas as pd\n",
    "import re\n",
    "import nltk\n",
    "from nltk.corpus import stopwords\n",
    "from nltk.tokenize import word_tokenize\n",
    "from nltk.tag import pos_tag\n",
    "from nltk.stem import PorterStemmer, WordNetLemmatizer\n",
    "import spacy"
   ]
  },
  {
   "cell_type": "code",
   "execution_count": 2,
   "id": "d07be518-2960-4160-a4a3-097495b46fe3",
   "metadata": {},
   "outputs": [],
   "source": [
    "nlp = spacy.load('en_core_web_sm')"
   ]
  },
  {
   "cell_type": "code",
   "execution_count": 20,
   "id": "b29789ae-e295-4fe3-99e7-d65d38343694",
   "metadata": {},
   "outputs": [],
   "source": [
    "import pymongo\n",
    "from pymongo import MongoClient"
   ]
  },
  {
   "cell_type": "markdown",
   "id": "696f907f-5c92-4ef0-b925-6a171b85dbc7",
   "metadata": {},
   "source": [
    "### Function to extract the text from PDF Files."
   ]
  },
  {
   "cell_type": "code",
   "execution_count": 3,
   "id": "77384ffe-3de5-4f05-b72a-0ab58ba71939",
   "metadata": {},
   "outputs": [],
   "source": [
    "def extract_text_from_pdf(pdf_path):\n",
    "    with open(pdf_path, 'rb') as file:\n",
    "        reader = PyPDF2.PdfReader(file)\n",
    "        text = ''\n",
    "        for page in range(len(reader.pages)):\n",
    "            text += reader.pages[page].extract_text()\n",
    "    return text"
   ]
  },
  {
   "cell_type": "code",
   "execution_count": 4,
   "id": "e33f6c32-fde0-4114-b6d2-a8380f8e7bee",
   "metadata": {},
   "outputs": [],
   "source": [
    "file_names = []\n",
    "categories = []\n",
    "texts = []\n",
    "root_dir = r'C:\\Users\\0132499s\\Documents\\Documents\\Transcript'"
   ]
  },
  {
   "cell_type": "markdown",
   "id": "8e2c3c6c-7472-4ba6-b7bc-4837b7afd994",
   "metadata": {},
   "source": [
    "### Extract the files names and their categories from the folders.\n",
    "#### The File Names will be the name of the file and the category will be the sub-folders inside the transcript documents."
   ]
  },
  {
   "cell_type": "code",
   "execution_count": 5,
   "id": "1c7d880e-a2eb-4606-b381-9801d9669d35",
   "metadata": {},
   "outputs": [],
   "source": [
    "for folder_name, subfolders, filenames in os.walk(root_dir):\n",
    "    for filename in filenames:\n",
    "        if filename.endswith('.pdf'):\n",
    "            file_path = os.path.join(folder_name, filename)\n",
    "            text = extract_text_from_pdf(file_path)\n",
    "            file_names.append(filename)\n",
    "            categories.append(os.path.basename(folder_name))\n",
    "            texts.append(text)\n",
    "\n",
    "df = pd.DataFrame({\n",
    "    'File Name' : file_names,\n",
    "    'Category' : categories,\n",
    "    'Text' : texts\n",
    "})"
   ]
  },
  {
   "cell_type": "code",
   "execution_count": 6,
   "id": "d26ec2dc-423a-4be7-bb75-2233ac6ff105",
   "metadata": {},
   "outputs": [
    {
     "name": "stdout",
     "output_type": "stream",
     "text": [
      "                                           File Name               Category  \\\n",
      "0  Joint Committee on Agriculture and the Marine ...  Agri, Food and Marine   \n",
      "1  Joint Committee on Agriculture and the Marine ...  Agri, Food and Marine   \n",
      "2  Joint Committee on Agriculture and the Marine ...  Agri, Food and Marine   \n",
      "3  Joint Committee on Agriculture and the Marine ...  Agri, Food and Marine   \n",
      "4  Joint Committee on Agriculture and the Marine ...  Agri, Food and Marine   \n",
      "\n",
      "                                                Text  \n",
      "0  AN COMHCHOISTE UM THALMHAÍOCHT AGUS MUIR\\nJOIN...  \n",
      "1  AN COMHCHOISTE UM THALMHAÍOCHT AGUS MUIR\\nJOIN...  \n",
      "2  AN COMHCHOISTE UM THALMHAÍOCHT AGUS MUIR\\nJOIN...  \n",
      "3  AN COMHCHOISTE UM THALMHAÍOCHT AGUS MUIR\\nJOIN...  \n",
      "4  AN COMHCHOISTE UM THALMHAÍOCHT AGUS MUIR\\nJOIN...  \n"
     ]
    }
   ],
   "source": [
    "print(df.head())"
   ]
  },
  {
   "cell_type": "markdown",
   "id": "f9fe9a7b-4f3d-4d43-a1e4-8e8cd029df29",
   "metadata": {},
   "source": [
    "### Remove Stop Words"
   ]
  },
  {
   "cell_type": "code",
   "execution_count": 7,
   "id": "8f8b8dea-f8df-4815-aace-a4897f0c9700",
   "metadata": {},
   "outputs": [],
   "source": [
    "stop_words = set(stopwords.words('english'))\n",
    "\n",
    "def remove_stop_words(text):\n",
    "    words = word_tokenize(text)\n",
    "    stop_words = set(stopwords.words('english'))\n",
    "    filtered_words = [word for word in words if word.lower() not in stop_words]\n",
    "    return ' '.join(filtered_words)"
   ]
  },
  {
   "cell_type": "markdown",
   "id": "616eaa3b-f5bd-4134-8d0f-17306dc4881a",
   "metadata": {},
   "source": [
    "### Remove grammer other than Nouns"
   ]
  },
  {
   "cell_type": "code",
   "execution_count": 8,
   "id": "29a70f82-e6c6-458f-be37-efec5c64e1a1",
   "metadata": {},
   "outputs": [],
   "source": [
    "def extract_grammer(text):\n",
    "    words = word_tokenize(text)\n",
    "    tagged_words = pos_tag(words)\n",
    "    remove_pos = ['PRP', 'PRP$', 'VB', 'VBD', 'VBG', 'VBN', 'VBP', 'VBZ', 'JJ', 'JJR', 'JJS', 'RB', 'RBR', 'RBS','IN', 'CC', 'UH', 'DT', 'PDT', 'WDT', 'WP', 'WP$', 'WRB']\n",
    "    filtered_words = [word for word, pos in tagged_words if pos not in remove_pos]\n",
    "    return ' '.join(filtered_words)"
   ]
  },
  {
   "cell_type": "markdown",
   "id": "92069644-fb12-4ddc-96c0-0b0c154241db",
   "metadata": {},
   "source": [
    "### Removing commas, special characters with commas, and extra spaces."
   ]
  },
  {
   "cell_type": "code",
   "execution_count": 9,
   "id": "469d1e58-011a-4dd0-993f-143324ade4be",
   "metadata": {},
   "outputs": [],
   "source": [
    "def remove_special_char(text):\n",
    "    # Remove commas\n",
    "    cleaned_text = text.replace(',', '')\n",
    "    # Replace special characters with blank spaces\n",
    "    cleaned_text = re.sub(r'[^A-Za-z0-9\\s]', ' ', cleaned_text)\n",
    "    # Remove extra spaces\n",
    "    cleaned_text = re.sub(r'\\s+', ' ', cleaned_text).strip()\n",
    "    return cleaned_text"
   ]
  },
  {
   "cell_type": "code",
   "execution_count": 10,
   "id": "0183a7db-3a03-4483-be31-34ed030af87e",
   "metadata": {},
   "outputs": [],
   "source": [
    "def remove_extra_spaces_and_numbers(text):\n",
    "    text = re.sub(r'\\d+', '', text)\n",
    "    text = re.sub(r'\\b\\w\\b', '', text)\n",
    "    text = re.sub(r'\\s+', ' ', text).strip()\n",
    "    return text"
   ]
  },
  {
   "cell_type": "markdown",
   "id": "a7aa0ab5-5ccd-4c57-bd98-425c16d4ff20",
   "metadata": {},
   "source": [
    "### Remove Speaker Titles"
   ]
  },
  {
   "cell_type": "code",
   "execution_count": 11,
   "id": "5f76a59f-f18b-4765-afbe-6af30f2433dc",
   "metadata": {},
   "outputs": [],
   "source": [
    "speaker_titles = ['Chairman',\n",
    "'Dr',\n",
    "'Mr',\n",
    "'Deputy',\n",
    "'Ms',\n",
    "'An Leas Cheann Comhairle',\n",
    "'Minister',\n",
    "'Acting Chairman',\n",
    "'An Ceann Comhairle',\n",
    "'Senator',\n",
    "'Co Chairman',\n",
    "'An Cathaoirleach',\n",
    "'An Leas-Chathaoirleach',\n",
    "'Acting Chairperson',\n",
    "'Professor',\n",
    "'Vice',\n",
    "'Clerk',\n",
    "'Deputies',\n",
    "'Comptroller',\n",
    "'Audit',\n",
    "'General']\n",
    "\n",
    "def remove_terms(text, terms):\n",
    "    pattern = r'\\b(?:' + '|'.join(re.escape(term) for term in terms) + r')\\b'\n",
    "    return re.sub(pattern, '', text)"
   ]
  },
  {
   "cell_type": "markdown",
   "id": "39100920-5cf1-41fd-a4a9-968176092de5",
   "metadata": {},
   "source": [
    "### Remove Names: Using PERSON tag from the spacy library."
   ]
  },
  {
   "cell_type": "code",
   "execution_count": 12,
   "id": "bbd826d5-0409-4d88-8599-a9356b8c92ab",
   "metadata": {},
   "outputs": [],
   "source": [
    "def remove_names(text):\n",
    "    doc = nlp(text)\n",
    "    result = []\n",
    "    for token in doc:\n",
    "        if token.ent_type_ != 'PERSON':\n",
    "            result.append(token.text)\n",
    "    return ' '.join(result)"
   ]
  },
  {
   "cell_type": "markdown",
   "id": "5abfa14b-32ca-4244-bb6a-b883224d8eb5",
   "metadata": {},
   "source": [
    "### Applying all the cleaning functions to get the final 'Cleaned Text'"
   ]
  },
  {
   "cell_type": "code",
   "execution_count": 13,
   "id": "fd872345-f5af-4b9c-aab6-622604fc90b6",
   "metadata": {},
   "outputs": [],
   "source": [
    "df['Cleaned Text'] = df['Text'].apply(remove_stop_words)"
   ]
  },
  {
   "cell_type": "code",
   "execution_count": 14,
   "id": "5417cbf5-4990-4a89-8568-9f3ecfb4a3e0",
   "metadata": {},
   "outputs": [],
   "source": [
    "df['Cleaned Text'] = df['Cleaned Text'].apply(extract_grammer)\n",
    "df['Cleaned Text'] = df['Cleaned Text'].apply(remove_special_char)\n",
    "df['Cleaned Text'] = df['Cleaned Text'].apply(remove_extra_spaces_and_numbers)"
   ]
  },
  {
   "cell_type": "code",
   "execution_count": 15,
   "id": "50b11c46-1010-40f2-8fb4-eb581f9a145f",
   "metadata": {},
   "outputs": [],
   "source": [
    "df['Cleaned Text'] = df['Cleaned Text'].apply(lambda x: remove_terms(x, speaker_titles))"
   ]
  },
  {
   "cell_type": "code",
   "execution_count": 16,
   "id": "1b749cb4-2208-45dc-82fb-34713f43f4fb",
   "metadata": {},
   "outputs": [],
   "source": [
    "df['Cleaned Text'] = df['Cleaned Text'].apply(remove_names)"
   ]
  },
  {
   "cell_type": "code",
   "execution_count": 17,
   "id": "616969e4-7d41-48be-b08c-dd5e52afbbbd",
   "metadata": {},
   "outputs": [
    {
     "name": "stdout",
     "output_type": "stream",
     "text": [
      "                                           File Name               Category  \\\n",
      "0  Joint Committee on Agriculture and the Marine ...  Agri, Food and Marine   \n",
      "1  Joint Committee on Agriculture and the Marine ...  Agri, Food and Marine   \n",
      "2  Joint Committee on Agriculture and the Marine ...  Agri, Food and Marine   \n",
      "3  Joint Committee on Agriculture and the Marine ...  Agri, Food and Marine   \n",
      "4  Joint Committee on Agriculture and the Marine ...  Agri, Food and Marine   \n",
      "\n",
      "                                                Text  \\\n",
      "0  AN COMHCHOISTE UM THALMHAÍOCHT AGUS MUIR\\nJOIN...   \n",
      "1  AN COMHCHOISTE UM THALMHAÍOCHT AGUS MUIR\\nJOIN...   \n",
      "2  AN COMHCHOISTE UM THALMHAÍOCHT AGUS MUIR\\nJOIN...   \n",
      "3  AN COMHCHOISTE UM THALMHAÍOCHT AGUS MUIR\\nJOIN...   \n",
      "4  AN COMHCHOISTE UM THALMHAÍOCHT AGUS MUIR\\nJOIN...   \n",
      "\n",
      "                                        Cleaned Text  \n",
      "0  COMHCHOISTE UM THALMHA OCHT AGUS MUIR JOINT CO...  \n",
      "1  COMHCHOISTE UM THALMHA OCHT AGUS MUIR JOINT CO...  \n",
      "2  COMHCHOISTE UM THALMHA OCHT AGUS MUIR JOINT CO...  \n",
      "3  COMHCHOISTE UM THALMHA OCHT AGUS MUIR JOINT CO...  \n",
      "4  COMHCHOISTE UM THALMHA OCHT AGUS MUIR JOINT CO...  \n"
     ]
    }
   ],
   "source": [
    "print(df.head())"
   ]
  },
  {
   "cell_type": "code",
   "execution_count": 18,
   "id": "374308b0-71d7-4de2-9b92-4865915f0c03",
   "metadata": {},
   "outputs": [],
   "source": [
    "stringtest = df['Cleaned Text'][0]"
   ]
  },
  {
   "cell_type": "code",
   "execution_count": 19,
   "id": "6159d22a-4681-4987-a916-f6973d75aa93",
   "metadata": {
    "scrolled": true
   },
   "outputs": [
    {
     "data": {
      "text/plain": [
       "'COMHCHOISTE UM THALMHA OCHT AGUS MUIR JOINT COMMITTEE AGRICULTURE MARINE ardaoin Thursday November Th inig le ch ile Joint Committee Comhalta bh thair Members Senators Boyhan Lombard Donovan Paul Kehoe Brian Leddin thair attendance     IREANN JAM Business Joint Committee   begin members phones Members duration meeting phones aeroplane flight mode device members phones mode may casting system session end meeting deal housekeeping matters correspondence business Agreed Regulation Veterinary Medicinal Products Discussion   proceed consideration changes medicines two sets witnesses representatives Pharmacy Union IPU     Barry   Ian Scott Scott Consulting UK Limited consultant Independent Merchants Association ILMA   Terence Shea ILMA maximise use time call witnesses statements discussion members consideration Department officials regard members Department materials welcome officials meeting evidence Parliament cincts statute absolute privilege participants evidence location Parliament precincts note may level immunity proceedings witness evidence Parliament precincts guidance extent evidence privilege nature Persons evidence jurisdiction statutory regime guests committee cease evidence relation matter must direction Witnesses evidence matter proceedings directions Chair practice criticise make charges person name way speech might person entity name   Quinn statement   Daragh Quinn Cathaoirleach dhaoine uaisle IPU pharmacies Ireland supply medicines Crossmolina north Mayo Wild Atlantic Way movie Wild Mountain Thyme pharmacy thesis implications EU EEC EEC supply medicinal products VMPs thesis NOVEMBER lished reference document Veterinary Medicines Directorate UK system Members pharmacies role pharmacist dispense medicines advice medicines professionals response symptoms refer patients professionals case animals vet times concern welfare patient supply medicines animal owners tocol medicines patients sequence questions patient symptoms present treatment Prior counter medicine animals questions species cohort stage previ treatments factors factors medicines advice administration animal safety user withdrawal periods concerns product containers times transaction maintain records database VMPs owners record use anthelmintics flukicides coccidiostats ectoparasiticides vaccines Benefits reduction treatments safety user animal consumer environment persons service stores chants co ops QQI level qualification Department Agriculture Food Marine supply VMPs advice purchaser cohort graduates QQI level awards September none    McConalogue awards graduation ceremonies years contributions Department officials list Caroline Garvan Breda Healy others role person supply chain medicines student course officer Ireland   letter European Com mission submission suggestion HPRA Report channel sale avenues antiparasitics causation factor criteria exemption Directive EC availability prescription veteri medicines supply medicines issue regard exemption EU Counter medicines documentation multiple stakeholders vets pharmacists persons pharmaceuticals commodities molecules commodity responsibility safeguard use future resistance differs resistance resis tance evolution phenomenon Fasinex example mid Reports resistance molecule sheep JAM Sligo ten years Resistance problem multifacto aspects part play HPRA report December upregulation vet medicines prescription medicine status correct exemption prescription medicine status medicines HPRA task force multi actor stakeholder approach regulation members would minds actor stakeholder approach regulation proposal Department exclude professionals veterinarians prescriptions owners pursue entitlement prescription practitioners source products jeopardising relationship vets relationship birthing times owners jeopardise relationship vets obligation regulation Communities Animal Remedies Regulations prescriber remedy shall time issue prescription owner person charge animal regulation encourage competition prevent monopoly experience shows prescription medicine regulations pharmacists function medicines absence competition supply medicines may implementation regulation price inflation farmer monopoly develop cost farmers viability industry food products world market EU Regu lation merchants pharmacies Job losses thousands Jobs commodity committee members constituents merchants pharma cies staff communities hammer Ireland request Department Agriculture Food Marine forum resistance stakeholder group impact assessment advance implementation regulation Department proposal medicines Ireland countries success would practices consideration regulation viability farming co ops pharmacies merchants cost living Friday hill farmer pharmacy Crossmolina advice lamb response symptoms vet treat ment farmer response vet consultation fee cost treatment would value lamb decision nature course situation farmers smallholders horse owners vet animals welfare suffer Farmers animal owners animals derogation effect farm life irony pharmacist supply NOVEMBER on use anthelmintics ectoparasiticides use prescription prescription supply equivalent nurse prescribers pharmacist prescribers persons UK deroga tion regulation health welfare strategy health products one island two supply systems border importation products accountability transparency Currently products farmers Border reasons availability prescription State court case importation product Northern Ireland inspector transactions cross border trade torrent post January accountability transparency quality assurance food products service parts regions Donegal Mayo Galway Clare region Mayo adja cent size one vet island com munities vets areas merchant pharmacist medicines advice regulation challenge life coast solution   one would competition supply medicines prevent development resistance authorise persons prescriptions medicines de facto medicines reg ulation time entry force Precedents regard Department implementation EU directive use pesticides response Commission letter confirms availability derogation   Department advice Attorney   views   thank   Quinn   Daragh Quinn May one point   sorry must time members questions   Quinn questions     negotiator UK rights SQP four years discussions regulation table Article support UK Government UK SQP system stages regulation discussions regulation January entry force EU January period member states legislation order compliance derogation Ireland role Department Agriculture Food Marine Commission JAM draft member states could distribution systems MEPs supportive mat ter Department veterinary expert panel panel change make medicines animals prescription panel stakeholders deci sion Department UK Depart ment Irish Farmers Association UK ruling would Ireland keep system radar Department UK system discussion Article sets animals prescription Independent Merchants Association ILMA merchant medicines exemption prescription example porons flukicides coccidiostats control dip wormers horse wormers Article profes persons vets prescriptions loggerheads Department derogation Department intent system approves law briefly person dispense medicines prescription merchant may premises Department Agriculture Food Marine medicinal products premises regulation inspection control Department point Department contention vet prescription words derogation contradict read way derogation point Article Article defines prescription derogation definition prescription definition applies way member state write prescription vets rights prescribe must committee proof person prescribe derogation person must qualification   Quinn QQI level sale supply remedies qualifications everyone exam Department Therefore person must person prescribe animal medicines regulation time entry force one purchase merchant merchant talk age type breed weight animal product situations medicine tion rate withdrawal period laboratory tests storage procedure anyone scription persons terms QQI level virtue capacity opinion support two key points sense term person pharmacy pharmacist prescribe dispense derogation one difference vets vet pharmacists persons person body solution Department Agriculture Food Marine body person code practice would process NOVEMBER ensure use matters person prescriber dispenser present point sale would continu development advice resistance process work Department form prescription classification merchant LM medicines prescription terms Irish law person LM medicines prescription EU regulation medicines prescription Article Ireland person issue prescription committee one threat conclude view competition authority Department Agriculture Food Marine system livestock farmer horse owner get prescription merchant purchase medicine First vet premises vet advantage prescribe one stop shop scenario sales products vets Second LM medicines vet dispense prescrip tion must medicine would vets would prescribe brands example farmer buy ivermectin Ivomec vet would Enovex vets applies brands way LM pre product prescription product letter EU   officer Department recognition competition issues environment would committee Department wishes MEPs Commission Irish LM distribution system stakeholders intentions put matters year change entry force responsibility actions predecessors avail solution Department grave danger anti competition law could litigation resolve matters   thank gentlemen presentations topic interest concern sector     thank witnesses presentation issue time conse quences community merchants union could situation welfare issues   committee members co operation sugges tion issue agenda discussion today ILMA IPU JAM submissions compliment scenario issue work departmental officials resolution help farmers suppliers animals question competition merchants mer chants jobs derogation compromise clarification competition might prices margin beef farmers merchants stock sell product licence system work moment   guests statements contributions mess needs questions ILMA discussion role vets play implementation regulation place resistance EU time table ILMA derogation Ireland use IPU statement refers supply medicines animal owners medicines patients witnesses statement opinion supply medicines non vets animal owners amounts counter prescribing IPU prescribing pharmacists LM sector veteri products manner conversation departmental officials derogation Ireland matter point committee issue businesses communities strain time   Lombard compliment   topic com mittee correspondence issue com munity competition element merchants competition forum farmers co operatives entities model would profitability beef sheep sectors sector products might might understanding would dosing cattle vaccinations diarrhoea BVD leptospirosis merchant suppliers lack competition effect supplier vet farmers vet competition someone vet people effect argue one price issue regard price product guests QQI level course pharmacists It face generations course work sense guests would course course stand derogation issue industry guests contributions Department see regard derogation   number questions guests replies six members questions   question vets resistance example wormer Zolvix nine years brand ingredient brand one years vets vet control uptake resistance simple message year vets resistance wormer market quantities committee   Daragh Quinn role pharmacist community pharmacy patients health farmers patients animals advice advice fol protocol assess circumstances diagnosis recommendation time response tests egg count tests response symptoms qualification pharmacist persons members qualification effort hours cost person people time effort dispense products foot vet prescrip tion shortage vets country reluctance part vets prescriptions obligation   shortages vets work could issues shortages parts country comment countries derogation place One prescriptions assessment vet point vets schedules shortage vets evidence medicines vets price differences suppliers medicines farms example may ally develops mastitis farmer friend hand   thank guests contributions   Scott Parliament Members Decisions representatives JAM pharmacies agriculture health respon people questions farmers people worry monitor trade form trade years people products product bit cigarettes price country thousands week country Dublin Airport Dublin Port people product cheaply Northern Ireland England would co operatives pharmacies Ireland farmers Mayo ground get people would ones monopoly hope see traders country Dublin thinking Europe businesses businesses bit lockdown multinationals Dunnes Stores Tesco hurt family businesses country ones decision legislation il decision legislation co operatives pharmacies people Ireland   Carthy Member European Parliament years people EU time day Sunday Sunday thinking Monday morning someone Europe times way fact mul tinationals operators businesses happen   thank   Quinn   Scott contributions questions officials Department Agriculture Food Marine session   thank guests presentations   Scott derogation Article Ireland use solve problem witnesses vets Health Products Regulatory Authority HPRA years phone call   constituency morning difficulty mo ment vets miles people pharmacist farmer doses might risk supplies Border direction impact Border counties Vets Border moment consideration England UK officials would persons course would cross Department need persons could doses cattle suppliers practices difference prices medicine merchants NOVEMBER afraid farmers everything   Ring Europe could party Europe Cattle France farmer would life lem interpretation directives everything letter law time must farmers suppliers co ops marts etc business maintain competition market   three answers derogation January period entry force date accessibility derogation letter EU   opinion Department Agriculture Food Marine problem EU products derogation reason vets prescriptions Department committee members   cross Border problems import medi cines one report thousands litres product Border UK Ireland reputation ity Ireland meat poultry exports damage concerns happen stake   Daragh Quinn applaud intelligence members committee issue stake   vets issue west vets practice requests prescriptions egg count tests tests capability persons persons pharmacists egg count test recommendation products worm treatments treatments dips medicines horse wormers co ops LMs pharmacies price differentials merchants co ops pharmacies vets competition market differences prices medicines prescriptions moment vets prescriptions antibiotics years prescription would products tion treatment bottle product cost may area wider examination would price difference farmer principle drugs flukicides coccidiostats wormers dips would line margin community would   Ring point family businesses merchants employment employment opportunities Apples Googles Amazons coast regulation Ireland employment committee members constituents refer isolation Island communities communities vets merchant supply medicines may hope representatives members courage electorate people country call brave farms farmers families people workers people help silage people employment farms issue concerns pharmacists merchants part people issue   avail derogation   thank witnesses presentations concern   Laois Offaly job communities job losses derogation creation cartel monopoly fact burden farmers need situation addition sense rocket science derogation needs issue bed jobs witnesses earn pharmacists persons Department avail derogation UK system type system Could Ireland approach question Scandinavia understand Denmark Sweden functions dispensing Could pos solution countries hit obstacle derogation end could solution solutions penalty farmers interest regard farmer hit discussion years products manner co operatives sales merchants channels ucts cost farmers Ireland attack farmers must everything power committee derogation fruition would   questions   ILMA opinion support interpretation derogation opin ion Attorney   Border movement UK veteri products Republic ILMA IPU view repercussions Department measures prescription vets Border person prescribe dispense   questions ILMA claims medicines fre NOVEMBER quently effectiveness ILMA problems prescription medicines Would people ILMA system Could pharmacy union comments supply products prescriptions medicines jurisdictions cases market sale medicines prescription cases prices   speaking behalf Independent Merchants sociation merchant operate two merchant premises Department Agriculture Food Marine person industry years would Oireachtas committee business number years   Nolan question profession respon person   would answer merchants would job losses business closures consequence Department derogation Article responsibility representatives Ministers servants employment regulation legisla tion objectives Department legislation result job losses business closures merchants medicines source income Others range farm products exit industry job losses merchants locations thing officer   letter Europe issues competitiveness marketplace outlets attention committee EU Directive trading practices food supply chain prohibit trading practices one trading partner April EU states emphasis yesterday merchant touch turnover six weeks number farmer clients prescriptions practice area sale medicines farmer product shelf prescription farmer purchasing products retention prescriptions client reason EU Directive legislation encourage malpractice would retention prescriptions malpractice people SI legislation encourage provi sions EU Directive    body JAM ing statement legislation would   system UK   Nolan question persons body everyone amount training year resistance body would issue prescription person process could somebody register case prescribe One difference code practice UK person advise dispense sell medicines person would one   shops ex ample person deal medicines inquiry quali person would body person   question opinion opinion counsel solicitor matter derogation opinion   yesterday inbox share committee put front Attorney   matters today   Daragh Quinn committee opportunity would vert   Nolan question Scandinavian model supply medicines model Scandinavia conflict interest dichotomy roles veterinarians medicines medicines doctors pharmacists conflict interest would vets work situation   Kehoe would clinics work would allows vets Scandinavia enhance roles advantage would stewardship medicines resistance concerns medicines model would accessibility supply model would role vets pharmacists persons sector expertise optimum pharmacist merchant role must fact role element look medicines act   thank witnesses presentations answers view issue discussions De partment place guests   thank officials Department Agriculture Food Marine today part meeting presentations stakeholders legislation   officer   inspector   NOVEMBER superintendent inspector one guests would meeting questions   note would statement   guests questions case   questions   evidence witnesses evidence precincts Constitution statute ab solute privilege witnesses evidence location precincts note may level i m munity proceedings witness evidence precincts advice witnesses Witnesses evidence matter proceedings directions Chair practice effect make charges person persons name way speech might name person entity   officials Department heard   Quinn IPU   two issues Department ways sorry officials Department time issues party opportunity respond   Quinn Department forum sistance stakeholder group impact assessment advance mentation EU Regulation would guests could reason request impact statement policy decision anyone case would guests decision impact assessments point   Quinn Sometimes contributions committee punch   Scott presentation Department wishes MEPs EU Commissioner draft Irish LM medicines distribution system Department set regulates Depart ment stakeholders put matters year change force criticisms Department   Scott danger anti competition law would litigation resolve matters two statements two people committee clarification issues Department   indulgence committee Department officials move questions questions   ask stage officials could Government position regulation Council would background    questions guests would respond   questions talk stakeholders door   occasions part stakeholder group Department Chief Veterinary Officer time heard claim effect impact assessment statement today impact assessment thing regulation affects elements society case supply chain stand claim   Quinn point would legislation medicines directive law discretion one comply provisions regulation di effect member state discretion level law room level stakeholders impact assessment areas Ireland discretion One could value areas discretion hope point representatives ILMA   Scott views news   Scott opinions Department yesterday today advisers stakeholders advisers Office Attorney   clarity elements regulation views today differences opinion interpretations must charges   Scott officials stake holder concerns   Boylan parties chance respond None officials regulation EU level medicines couple years regulation EU position comment points   view would   Could question position regulation Council level   none negotiation regula tion   question     Forde Government position NOVEMBER this Council support regulation   understand default position medi cines animals prescription law person practitioner law issue prescription legislation consistent regulation Ireland derogation whereby evidence resistance medicines evidence damage relating products could prescription products Ireland persons persons vets witnesses task force HPRA resistance products evidence damage context exemptions law products prescription HPRA report regulation Apologies answer   position EU regulation Council Parliament Gov ernment support   guess answer question    could would ques tions time things people businesses must stocks orders information dealt matters years months confusion matters difficulties would position would position regulation would Cabinet Cabinet fact regulation could impact businesses practices pharmacists   Forde consultation engagement Department question July    Cowen legislation Department matter intention sector persons Subsequent Department intention point regulation derogation Department level point regulation response question in MEP Chris MacManus Euro Commission derogation Commission state conditions Article EU Regulation Veterinary Medicinal Products EU sound Commission boot dealt Commis sion five years factor influence terms JAM matters trust thing response Department road businesses people passion people voices livelihoods threat closure jobs heard impact farmers heard vets country responsibility busi pressure   Forde Department board position head happen Department gift Government po sition Commission develop lot regulations number years resistance issues needs support member states position mat ters taste people mouths issue would address board resolve gift   assure   stakeholders situation position respect livelihoods ac tion plan actions address concerns core protect efficacy products sustainability livestock sector antiparasitics work problem role people antiparasitics   question July answers address queries stakeholders claim answers proposal study detail work stakeholders work outset opportunity work     Quinn Crossmolina work people solutions respect must EU regulation challenge act parameters   Matt Carthy Department representatives Commission officials introduce derogation respect fa cilitate trade persons persons standards must people cheque intend line regula tion Commission EU interests flexibility   frank aback would officials question post time Bureaucracy paper cause lot problems paper trails Department five minutes would committee Department attitude officials issue NOVEMBER problems would return   Boyhan question impact assessment ILMA Department confirm deny impact assessment regulation effect veteri practices sales products witnesses may may back day confirmation Department distribution system trade persons system MEPs status quo information committee Department vets Brussels run line MEPs Department change attitude towards status quo think evening jump bow situation set ups North South Border Brexit Every Department night day tions preparatory work systems place alignment island Ireland Department Agriculture Food Marine hurdle regimes island presentation committee two weeks forestry crisis Prevention cure derogation regulation guarantee committee year months two years crisis derogation something advice state reason avail derogation Department farmer Brussels time jersey problem must ways Department problems regulations Department Agriculture Food Marine   answer repeat impact assessment publishing findings regulation stakeholders stakehold ers understand arose would point situation regulation HPRA task force report products would prescription would process officials Department Agriculture Food Marine file Nothing would law respect thing knowledge impact medicines committee officials time EU lation legislation evidence resistance medicines would prescription colleague   may committee JAM HPRA task force report findings law   point would con law change Department Agriculture Food Marine change law medicines problem issue sector farmers productivity sustainability supply efficacy products benefit farmer resistance products farms treatment products medicines courage use stakeholder group consult everybody start impact change community everything work farmers constraints legislation regulation advice avail derogation moment advice consult Attorney   position change law health situation   claim increase antipara resistance official   accept members bit ques tions would   comments   point    exception persons qualifications medicines      resistance use products persons medicines jobs   persons drivers resistance   medicines people point might two three members interests time   Lombard   Fitzmaurice Ring   Lombard information ten minutes task force task force report game force proposing Riverview Veterinary Group tomorrow morning McLaugh lin Veterinary Clinic door get Riverview product product legislation see person ad ministers argument farmer supplier administers product way are need person administers product way matter two years time surgeon give animal surgeon yard way solve anyone room appropriate farmer Ireland appropri ate Department Agriculture Food Marine appropriate end wedge line today way situation industry surgeons calf Ireland stop industry issue way needs must person medication whatever competent practice merchant practice tion   comment   farmers something happen die farming farmers letting country thing medicines farmer may vet cause cow mastitis worms farmer thing vet road One person paper needs something purpose vet time watch farmer throat beast injection way Department farmers mentality task force something one thing sense   Forde Department Europe   Colm question Ireland     question EU Commission Ireland could derogation centre today discussion article message   anybody telephone talk someone ask Department could ways road British courses people today standard ticks box question approval   rest committee back officials six weeks time Department pull position stuff officials people solution JAM Department Europe dispensers issue farm ers farmer   Tesco Lidl need shop middle Ireland need farmer afford road moment Department board sit people business regulations regulation regulation directive dispute moment Article evidence one side marry one thing need surgeon question medicines sections things course one person standard sticks someone issue one anyone one thing day farmer cattle farmer cattle Farmers week throw livestock farmer change dosing road vets day farmyards Department re examine matter entirety Everyone pull Everyone sit people solution week two   one issues raise officials stakeholders month year something work agreement stakeholders sider interpretation rule Ireland steps everyone Someone France countries way regulations bit lockdown steps everyone one example finish years Department deci sion abattoirs Department authorities vets hearts employers country Department time vet would get business year farmer factories years price beef price food thing competition market vets documentation place point Department control control create problem Department control medicine Northern Ireland people goods country Department hound farmers people NOVEMBER who medicine continue cigarettes authorities thousands cigarettes country week ones Others time Department control Europe pressure Department Department pressure   question bullock milk level respon way products years factories mortem reports animals show effectiveness farm level well post mortem worm fluke problem farmer could issue Sig structures others course need Reference competition Competition cost products issue competition increase cost producer consumer gain consumer bureaucracy facilitate   views members agreement challenges regulation stakeholders   com ments stakeholders regard year two meetings stakeholder group take place couple weeks assure committee stakeholders tion plan actions subgroups stakeholders part groups share action plan mittee wishes detail committee competition issues address five six actions plan comfort legislation must advice services team torney   work stakeholders jurisdictions Ireland UK countries Europe antiparasitics prescription country EU prescription access antiparasitics North South challenge something something stakeholders relationship col leagues Northern Ireland video conference colleagues UK Veteri Medicines Directorate responsibility regulating activities Northern Ire land would memorandum issue persons person Northern Ireland medicines farmer Ireland would offence protocols things border activity laws regulations challenge jurisdictions assure committee Northern Irish UK matter JAM residues   programme results years food market people countries Ireland trade missions presentation programme something informing   food safety consumer whereas concern antiparasitics evidence shows products interests benefit farmers anyone supply chain report work action points work persons vets farmers one knowledge products everyone interest hope points deal issues   questions Department Agriculture Food Marine farmer hit sector take point years times directive Department case   Shea Cork contribution Department jobs may form heard others Border movement VMPs UK Republic   would De partment police Department view repercussions service vets Border person prescribe dispense   reckless Department try pursue agenda Department Agriculture Food Marine farmers Ireland Rural Ireland officials Ireland assure businesses workers payrolls Farmers burden port   Fitzmaurice view Department board work everyone order protect jobs Ireland place burden farmers point derogation derogation opinion derogation derogation prevent Department ing derogation EU reply vets rights prescribe rule Regulation EU right prescribe medicines Regulation EU derogation rule article contradicts Department assertion vets prescriptions officials NOVEMBER regulations Department wreck Ireland overburden farmers job losses EU Directive officials response would understand Farmers relationship merchants   something   medicines animals resistance name medicines representatives Brussels Commission discuss sue meetings place months position result reasons Ireland derogation respect regulation witnesses monopoly prescription medicines cost medicines prices percentage example sheep dip would prescription investigation Department shortage vets Vets people background Vets deal time road cattle animals practices doctors queues people get prescriptions person might prescription might two three days reverse   comment issues   list medicines resistance   research terms medi cines Teagasc paper levels resistance drenches levels resistance treatments ivermectins resistance levamisole drench five classes medicines colour Research resistance seven eight years products market parasites develop resistance combat medicine evidence resistance three classes ivermectin families treatments level resistance frightening research find Teagasc research dairy beef farms levels resistance study resistance drenches information   query burden farmer course change burden farmer medicine animals quicker cost benefit farmer everybody use practice practice stakeholder group vets stakeholders farmers Guidance everybody use JAM products sector picture resistance result burden farmer thing prescription vet administer medicine farm time farmer needs prescription farmer chooses   cases treatment period person day one go merchant whenever product person buy time Department vet must treatment view cost practicalities farm mean vet administers    Leddin wishes question   Leddin time must minutes   Kehoe question tion   background medicines elaborate reasons resistance situation witnesses correlation farm practices rates numbers situation resistance   reason resistance way medicines line practices medicines come practices animals one time population parasite farm management key One move pasture parasites animals system element buying animals para sites pasture line use medicines development resistance issue time instance drench must todirus sheep season adult worms things must mind practice resistance time antimicrobials treatment develops mechanisms   Carol Nolan Sorry Chair get answers three questions      terpretations today witnesses interpretation member states people vets prescriptions legislation January entry force regulation regulation force January NOVEMBER As Ireland anyone issue prescription products prescription advice would Attorney   office absolute clarity Ireland derogation Views regulation choice Department Agriculture Food Marine stake holders discretion EU legislation effect room Ireland comply People questions interpretation get discretion way see must EU law hope   Nolan questions   question   bring officials session statements timeframe must debate   point    Browne speak fairness   Okay realise members   speak   session must one two things session conclude debate   point   regulation allow derogation knowledge regulation Government   Forde Department Irish Min ister sign regulation sack person mess    Carthy point   Daly come   questions   comments put record   answer problem one thing would conversation farmer person merchants supply today talk regulation antiparasitics   effect regulation person merchant would everything issue problem dose use   One thing record com mittee world farmer farmers person vet Give prescription use road would world person cattle everything JAM vet road work way Ireland works prescription problem person standard timeframe get could solution cover witnesses   instructions two hours ders anxieties worries concerns misgivings route witnesses questions session issue agriculture industry Everyone issues concern representatives representations issue concerns issues welfare availability vets competitiveness residues factories factor regimes farms lot work witnesses presentations questions floor anxiety concerns time session adjourn issues session might Zoom meeting deal okay Tuesday clock might half hour meet ing items everyone     room two hours   jump five minutes   work Teams Tuesday committee Tuesday November'"
      ]
     },
     "execution_count": 19,
     "metadata": {},
     "output_type": "execute_result"
    }
   ],
   "source": [
    "stringtest"
   ]
  },
  {
   "cell_type": "markdown",
   "id": "9520ab73-0bdd-4f2a-97a9-a2242b9c5530",
   "metadata": {},
   "source": [
    "## Checking MongoDB Connections"
   ]
  },
  {
   "cell_type": "code",
   "execution_count": 38,
   "id": "512c0bb6-2655-4cf0-a2b2-e75c5cdb6bb0",
   "metadata": {},
   "outputs": [
    {
     "name": "stdout",
     "output_type": "stream",
     "text": [
      "DB : Database(MongoClient(host=['localhost:27017'], document_class=dict, tz_aware=False, connect=True), 'foodsystems') \n",
      "Collection : Collection(Database(MongoClient(host=['localhost:27017'], document_class=dict, tz_aware=False, connect=True), 'foodsystems'), 'complete_transcripts')\n"
     ]
    }
   ],
   "source": [
    "client = MongoClient('mongodb://localhost:27017/')\n",
    "db = client['foodsystems']\n",
    "collection = db['complete_transcripts']\n",
    "print(f\"DB : {db} \\nCollection : {collection}\")"
   ]
  },
  {
   "cell_type": "markdown",
   "id": "cae974e2-88de-43d7-9bff-020f77bdcfb2",
   "metadata": {},
   "source": [
    "### Inserting the extracted text in the MongoDB Collection. \n",
    "#### The script will first establish the connection and then insert the records if the file name is not already in the collection and update (Cleaned Text and Category) if the file name is already there."
   ]
  },
  {
   "cell_type": "code",
   "execution_count": 47,
   "id": "e2e8c64d-3e9b-4271-ba1c-c415f6ad5135",
   "metadata": {},
   "outputs": [],
   "source": [
    "import pandas as pd\n",
    "from pymongo import MongoClient\n",
    "\n",
    "def upsert_dataframe_to_mongodb(dataframe, db_name, collection_name, mongo_uri=\"mongodb://localhost:27017/\"):\n",
    "    try:\n",
    "        client = MongoClient(mongo_uri)\n",
    "        db = client[db_name]\n",
    "        collection = db[collection_name]\n",
    "        data_dict = dataframe.to_dict(\"records\")\n",
    "        for record in data_dict:\n",
    "            collection.update_one(\n",
    "                {'File Name': record['File Name']},\n",
    "                {'$set': {'Category': record['Category'], 'Cleaned Text': record.get('Cleaned Text', '')}},\n",
    "                upsert=True\n",
    "            )\n",
    "    except Exception as e:\n",
    "        print(f\"An error occurred: {e}\")"
   ]
  },
  {
   "cell_type": "code",
   "execution_count": 48,
   "id": "102d2058-a183-44ad-88c8-dffaa517a628",
   "metadata": {},
   "outputs": [],
   "source": [
    "upsert_dataframe_to_mongodb(df, 'transcripts', 'complete_documents')"
   ]
  },
  {
   "cell_type": "code",
   "execution_count": null,
   "id": "0cc91cb8-189b-4834-9218-f0dcc899e356",
   "metadata": {},
   "outputs": [],
   "source": []
  }
 ],
 "metadata": {
  "kernelspec": {
   "display_name": "Python 3 (ipykernel)",
   "language": "python",
   "name": "python3"
  },
  "language_info": {
   "codemirror_mode": {
    "name": "ipython",
    "version": 3
   },
   "file_extension": ".py",
   "mimetype": "text/x-python",
   "name": "python",
   "nbconvert_exporter": "python",
   "pygments_lexer": "ipython3",
   "version": "3.12.6"
  }
 },
 "nbformat": 4,
 "nbformat_minor": 5
}
